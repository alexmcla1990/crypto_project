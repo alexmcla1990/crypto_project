{
 "cells": [
  {
   "cell_type": "code",
   "execution_count": 2,
   "id": "a63d320f",
   "metadata": {},
   "outputs": [],
   "source": [
    "import websocket\n",
    "SOCKET = \"wss://stream.binance.us:9443/ws/ethusd@kline_1m\"\n",
    "\n"
   ]
  },
  {
   "cell_type": "code",
   "execution_count": 4,
   "id": "2896bc19",
   "metadata": {},
   "outputs": [
    {
     "name": "stdout",
     "output_type": "stream",
     "text": [
      "Opened Connection\n",
      "Received Message\n",
      "Received Message\n",
      "Received Message\n",
      "Received Message\n",
      "Received Message\n",
      "Received Message\n"
     ]
    },
    {
     "data": {
      "text/plain": [
       "False"
      ]
     },
     "execution_count": 4,
     "metadata": {},
     "output_type": "execute_result"
    }
   ],
   "source": [
    "def on_open(ws):\n",
    "    print('Opened Connection')\n",
    "\n",
    "def on_close(ws):\n",
    "    print('Closed Connection')\n",
    "\n",
    "def on_message(ws, message):\n",
    "    print('Received Message')\n",
    "\n",
    "ws = websocket.WebSocketApp(SOCKET, on_open=on_open, on_close=on_close, on_message=on_message)\n",
    "ws.run_forever()"
   ]
  },
  {
   "cell_type": "code",
   "execution_count": null,
   "id": "f163cd39",
   "metadata": {},
   "outputs": [],
   "source": []
  }
 ],
 "metadata": {
  "kernelspec": {
   "display_name": "Python 3",
   "language": "python",
   "name": "python3"
  },
  "language_info": {
   "codemirror_mode": {
    "name": "ipython",
    "version": 3
   },
   "file_extension": ".py",
   "mimetype": "text/x-python",
   "name": "python",
   "nbconvert_exporter": "python",
   "pygments_lexer": "ipython3",
   "version": "3.8.8"
  }
 },
 "nbformat": 4,
 "nbformat_minor": 5
}
